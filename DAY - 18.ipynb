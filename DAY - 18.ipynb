{
 "cells": [
  {
   "cell_type": "code",
   "execution_count": null,
   "id": "73ddb21c",
   "metadata": {},
   "outputs": [
    {
     "name": "stdout",
     "output_type": "stream",
     "text": [
      "l\n"
     ]
    }
   ],
   "source": [
    "#STRING\n",
    "#substring#  #slicing\n",
    "a=\"hello\"\n",
    "print(a[2:4:3])"
   ]
  },
  {
   "cell_type": "code",
   "execution_count": null,
   "id": "38cf23d1",
   "metadata": {},
   "outputs": [
    {
     "name": "stdout",
     "output_type": "stream",
     "text": [
      "hai hello you hru\n",
      "hai hello thara hru\n",
      "HAI HELLO THARA HRU\n",
      "hai hello thara hru\n",
      "['hai', 'hello', 'thara', 'hru']\n",
      "False\n",
      "4\n",
      "4\n",
      "\n"
     ]
    }
   ],
   "source": [
    "#methods\n",
    "# replace,lower,upper,strip,spilit,is alpha,find,count,join\n",
    "a = \"hai hello thara hru\"\n",
    "print(a.replace(\"thara\", \"you\"))\n",
    "print(a.lower())\n",
    "print(a.upper())\n",
    "print(a.strip())\n",
    "print(a.split())\n",
    "print(a.isalpha())   \n",
    "print(a.find(\"hello\")) \n",
    "print(a.count(\"h\"))\n",
    "print()\n"
   ]
  },
  {
   "cell_type": "code",
   "execution_count": 42,
   "id": "17ee111c",
   "metadata": {},
   "outputs": [
    {
     "name": "stdout",
     "output_type": "stream",
     "text": [
      "fun are structure data\n"
     ]
    }
   ],
   "source": [
    "a = \"data structure are fun\"\n",
    "print(\" \".join(a.split()[::-1]))\n",
    "\n"
   ]
  },
  {
   "cell_type": "code",
   "execution_count": 1,
   "id": "8420a365",
   "metadata": {},
   "outputs": [
    {
     "name": "stdout",
     "output_type": "stream",
     "text": [
      " aaaaaaaaaaaaaaaaaaaaaaaaaaaaaaaaaaaaaaaaaaaaaaaaaaaaaaaaaaaaaaaaaaaaaaaaaaaaaaaaaaaaaaaaaaaaaaaaaaaaaaaaaaaaaaaaaaaaaaaaaaaaaaaaaaaaaaaaaaaaaaaaaaaaaaaaaaaaaaaaaaaaaaaaaaaaaaaaaaaaaaaaaaaaaaaaaaaaaaaaaaaaaaaaaaaaaaaaaaaaaaaaaaaaaaaaaaaaaaaaaaaaaaaaaaaaaaaaaaaaaaaaaaaaaaaaaaaaaaaaaaaaaaaaaaaaaaaaaaaaaaaaaaaaaaaaaaaaaaaaaaaaaaaaaaaaaaaaaaaaaaaaaaaaaaaaaaaaaaaaaaaaaaaaaaaaaaaaaaaaaaaaaaaaaaaaaaaaaaaaaaaaaaaaaaaaaaaaaaaaaaaaaaaaaaaaaaaaaaaaaaaaaaaaaaaaaaaaaaaaaaaaaaaaaaaaaaaaaaaaaaaaaaaaaaaaaaaaaaaaaaaaaaaaaaaaaaaaaaaaaaaaaaaaaaaaaaaaaaaaaaaaaaaaaaaaaaaaaaaaaaaaaaaaaaaaaaaaaaaaaaaaaaaaaaaaaaaaaaaaaaaaaaaaaaaaaaaaaaaaaaaaaaaaaaaaaaaaaaaaaaaaaaaaaaaaaaaaaaaaaaaaaaaaaaaaaaaaaaaaaaaaaaaaaaaaaaaaaaaaaaaaaaaaaaaaaaaaaaaaaaaaaaaaaaaaaaaaaaaaaaaaaaaaaaaaaaaaaaaaaaaaaaaaaaaaaaaaaaaaaaaaaaaaaaaaaaaaaaaaaaaaaaaaaaaaaaaaaaaaaaaaaaaaaaaaaaaaaaaaaaaaaaaaaaaaaaaaaaaaaaaaaaaaaaaaaaaaaaaaaaaaaaaaaaaaaaaaaaaaaaaaaaaaaaaaaaaaaaaaaaaaaaaaaaaaaaaaaaaaaaaaaaaaaaaaaaaaaaaaaaaaaaaaaaaaaaaaaaaaaaaaaaaaaaaaaaaaaaaa\n",
      "aaaaaaaaaaaaaaaaaaaaaaaaaaaaaaaaaaaaaaaaaaaaaaaaaaaaaaaaaaaaaaaaaaaaaaaaaaaaaaaaaaaaaaaaaaaaaaaaaaaaaaaaaaaaaaaaaaaaaaaaaaaaaaaaaaaaaaaaaaaaaaaaaaaaaaaaaaaaaaaaaaaaaaaaaaaaaaaaaaaaaaaaaaaaaaaaaaaaaaaaaaaaaaaaaaaaaaaaaaaaaaaaaaaaaaaaaaaaaaaaaaaaaaaaaaaaaaaaaaaaaaaaaaaaaaaaaaaaaaaaaaaaaaaaaaaaaaaaaaaaaaaaaaaaaaaaaaaaaaaaaaaaaaaaaaaaaaaaaaaaaaaaaaaaaaaaaaaaaaaaaaaaaaaaaaaaaaaaaaaaaaaaaaaaaaaaaaaaaaaaaaaaaaaaaaaaaaaaaaaaaaaaaaaaaaaaaaaaaaaaaaaaaaaaaaaaaaaaaaaaaaaaaaaaaaaaaaaaaaaaaaaaaaaaaaaaaaaaaaaaaaaaaaaaaaaaaaaaaaaaaaaaaaaaaaaaaaaaaaaaaaaaaaaaaaaaaaaaaaaaaaaaaaaaaaaaaaaaaaaaaaaaaaaaaaaaaaaaaaaaaaaaaaaaaaaaaaaaaaaaaaaaaaaaaaaaaaaaaaaaaaaaaaaaaaaaaaaaaaaaaaaaaaaaaaaaaaaaaaaaaaaaaaaaaaaaaaaaaaaaaaaaaaaaaaaaaaaaaaaaaaaaaaaaaaaaaaaaaaaaaaaaaaaaaaaaaaaaaaaaaaaaaaaaaaaaaaaaaaaaaaaaaaaaaaaaaaaaaaaaaaaaaaaaaaaaaaaaaaaaaaaaaaaaaaaaaaaaaaaaaaaaaaaaaaaaaaaaaaaaaaaaaaaaaaaaaaaaaaaaaaaaaaaaaaaaaaaaaaaaaaaaaaaaaaaaaaaaaaaaaaaaaaaaaaaaaaaaaaaaaaaaaaaaaaaaaaaaaaaaaaaaaaaaaaaaaaaaaaaaaaaaaaaaaaaaaaaaaaaa\n"
     ]
    }
   ],
   "source": [
    "#concodinate : += ->slow.join\n",
    "s = \" \"\n",
    "for i in range(1000):\n",
    "    s +=\"a\"\n",
    "print(s)\n",
    "\n",
    "#\n",
    "s = []\n",
    "for i in range(1000):\n",
    "    s.append(\"a\")\n",
    "char = ''.join(s)\n",
    "print(char)"
   ]
  },
  {
   "cell_type": "code",
   "execution_count": 2,
   "id": "a3f29e6f",
   "metadata": {},
   "outputs": [
    {
     "name": "stdout",
     "output_type": "stream",
     "text": [
      "True\n",
      "True\n"
     ]
    }
   ],
   "source": [
    "a = \"abc\"\n",
    "b = \"abc\"\n",
    "print(a==b)\n",
    "print(a is b)\n"
   ]
  },
  {
   "cell_type": "code",
   "execution_count": 3,
   "id": "2a710bb7",
   "metadata": {},
   "outputs": [
    {
     "name": "stdout",
     "output_type": "stream",
     "text": [
      "aaaaaaaaaaaaaaaaaaaaaaaaaaaaaaaaaaaaaaaaaaaaaaaaaaaaaaaaaaaaaaaaaaaaaaaaaaaaaaaaaaaaaaaaaaaaaaaaaaaaaaaaaaaaaaaaaaaaaaaaaaaaaaaaaaaaaaaaaaaaaaaaaaaaaaaaaaaaaaaaaaaaaaaaaaaaaaaaaaaaaaaaaaaaaaaaaaaaaaaaaaaaaaaaaaaaaaaaaaaaaaaaaaaaaaaaaaaaaaaaaaaaaaaaaaaaaaaaaaaaaaaaaaaaaaaaaaaaaaaaaaaaaaaaaaaaaaaaaaaaaaaaaaaaaaaaaaaaaaaaaaaaaaaaaaaaaaaaaaaaaaaaaaaaaaaaaaaaaaaaaaaaaaaaaaaaaaaaaaaaaaaaaaaaaaaaaaaaaaaaaaaaaaaaaaaaaaaaaaaaaaaaaaaaaaaaaaaaaaaaaaaaaaaaaaaaaaaaaaaaaaaaaaaaaaaaaaaaaaaaaaaaaaaaaaaaaaaaaaaaaaaaaaaaaaaaaaaaaaaaaaaaaaaaaaaaaaaaaaaaaaaaaaaaaaaaaaaaaaaaaaaaaaaaaaaaaaaaaaaaaaaaaaaaaaaaaaaaaaaaaaaaaaaaaaaaaaaaaaaaaaaaaaaaaaaaaaaaaaaaaaaaaaaaaaaaaaaaaaaaaaaaaaaaaaaaaaaaaaaaaaaaaaaaaaaaaaaaaaaaaaaaaaaaaaaaaaaaaaaaaaaaaaaaaaaaaaaaaaaaaaaaaaaaaaaaaaaaaaaaaaaaaaaaaaaaaaaaaaaaaaaaaaaaaaaaaaaaaaaaaaaaaaaaaaaaaaaaaaaaaaaaaaaaaaaaaaaaaaaaaaaaaaaaaaaaaaaaaaaaaaaaaaaaaaaaaaaaaaaaaaaaaaaaaaaaaaaaaaaaaaaaaaaaaaaaaaaaaaaaaaaaaaaaaaaaaaaaaaaaaaaaaaaaaaaaaaaaaaaaaaaaaaaaaaaaaaaaaaaaaaaaaaaaaaaaaaaaaaaa\n"
     ]
    }
   ],
   "source": [
    "s = []\n",
    "for i in range(1000):\n",
    "    s.append(\"a\")\n",
    "char = ''.join(s)\n",
    "print(char)"
   ]
  },
  {
   "cell_type": "code",
   "execution_count": null,
   "id": "8687ac5a",
   "metadata": {},
   "outputs": [],
   "source": [
    "#string also immutable\n",
    "#mostely it avoids += operator\n",
    "#substring - a seguence of characters within s string"
   ]
  },
  {
   "cell_type": "code",
   "execution_count": 4,
   "id": "fe7b9660",
   "metadata": {},
   "outputs": [
    {
     "name": "stdout",
     "output_type": "stream",
     "text": [
      "a\n",
      "ab\n",
      "abc\n",
      "b\n",
      "bc\n",
      "c\n"
     ]
    }
   ],
   "source": [
    "s = \"abc\"\n",
    "#brute force\n",
    "n = len(s)\n",
    "for i in range(n):\n",
    "    for j in range(i+1,n+1):\n",
    "        print(s[i:j])"
   ]
  },
  {
   "cell_type": "code",
   "execution_count": null,
   "id": "a4af499e",
   "metadata": {},
   "outputs": [
    {
     "name": "stdout",
     "output_type": "stream",
     "text": [
      "abc\n",
      "3\n"
     ]
    }
   ],
   "source": [
    "#Longest substring without repeating \n",
    "#input - \"abcabcbb\"\n",
    "s = \"abcabcbb\"\n",
    "n = len(s)\n",
    "max_len = 0\n",
    "longest = \"\"\n",
    "for i in range(n):\n",
    "    for j in range(i + 1, n + 1):\n",
    "        substr = s[i:j]\n",
    "        if len(substr) == len(set(substr)):\n",
    "            if len(substr) > max_len:\n",
    "                max_len = len(substr)\n",
    "                longest = substr\n",
    "\n",
    "print(longest)\n",
    "print(max_len)\n"
   ]
  },
  {
   "cell_type": "code",
   "execution_count": 3,
   "id": "3a6001ab",
   "metadata": {},
   "outputs": [],
   "source": [
    "#Longest substring without repeating \n",
    "#input - \"abcabcbb\"\n",
    "def l_s(s):\n",
    "    n=len(s)\n",
    "    max_len"
   ]
  },
  {
   "cell_type": "code",
   "execution_count": 16,
   "id": "aabc740b",
   "metadata": {},
   "outputs": [
    {
     "name": "stdout",
     "output_type": "stream",
     "text": [
      "FIZZ\n"
     ]
    }
   ],
   "source": [
    "'''if a num is divisible by 3 and 5 print fizzbus,3 only fizz, 5 only buzz, no print num'''\n",
    "n = int(input())\n",
    "if (n%3==0 and n%5==0):\n",
    "    print(\"FIZZBUZZ\")\n",
    "elif(n%5==0):\n",
    "    print(\"FIZZ\")\n",
    "elif(n%3==0):\n",
    "    print(\"BUZZ\")\n",
    "else:\n",
    "    print(n)\n"
   ]
  },
  {
   "cell_type": "code",
   "execution_count": 2,
   "id": "f67864a6",
   "metadata": {},
   "outputs": [
    {
     "name": "stdout",
     "output_type": "stream",
     "text": [
      "hhelloi\n"
     ]
    }
   ],
   "source": [
    "a=\"hello\"\n",
    "b=\"hi\"\n",
    "print(a.join(b))"
   ]
  },
  {
   "cell_type": "code",
   "execution_count": null,
   "id": "76c751cf",
   "metadata": {},
   "outputs": [],
   "source": [
    "s=[]\n",
    "for i in range(100):\n",
    "    s.append(\"a\")\n",
    "    char=\"\".join\n",
    "print(char) "
   ]
  },
  {
   "cell_type": "code",
   "execution_count": 4,
   "id": "9b875f0f",
   "metadata": {},
   "outputs": [
    {
     "data": {
      "text/plain": [
       "6"
      ]
     },
     "execution_count": 4,
     "metadata": {},
     "output_type": "execute_result"
    }
   ],
   "source": [
    "def pali(s):\n",
    "    c=0\n",
    "    n=len(s)\n",
    "    for i in range(n):\n",
    "        for j in range(i+1,n+1):\n",
    "            if s[i:j]==s[i:j][::-1]:\n",
    "                c+=1\n",
    "    return c    \n",
    "pali(\"abba\")"
   ]
  },
  {
   "cell_type": "code",
   "execution_count": 5,
   "id": "ee396022",
   "metadata": {},
   "outputs": [
    {
     "name": "stdout",
     "output_type": "stream",
     "text": [
      "['a', 'ab', 'abc', 'abca', 'abcab', 'abcabc', 'abcabcb', 'abcabcbb', 'b', 'bc', 'bca', 'bcab', 'bcabc', 'bcabcb', 'bcabcbb', 'c', 'ca', 'cab', 'cabc', 'cabcb', 'cabcbb', 'abcb', 'abcbb', 'bcb', 'bcbb', 'cb', 'cbb', 'bb']\n",
      "cbb\n"
     ]
    }
   ],
   "source": [
    "a=\"abcabcbb\"\n",
    "n=len(a)\n",
    "c=[]\n",
    "for i in range(n):\n",
    "    for j in range(i+1,n+1):\n",
    "        if a[i:j] in c:\n",
    "            pass\n",
    "        else:\n",
    "            c.append(a[i:j])\n",
    "print(c)            \n",
    "print(max(c)) "
   ]
  },
  {
   "cell_type": "code",
   "execution_count": 6,
   "id": "f8da024b",
   "metadata": {},
   "outputs": [],
   "source": [
    "def l_s(s):\n",
    "    n=len(s)\n",
    "    m_l=0\n",
    "    for i in range (n):\n",
    "        see=set()\n",
    "        for j in range(i,n):\n",
    "            if s[j] in see:\n",
    "                break\n",
    "            see.add(s[j])"
   ]
  },
  {
   "cell_type": "code",
   "execution_count": 7,
   "id": "0b965203",
   "metadata": {},
   "outputs": [
    {
     "name": "stdout",
     "output_type": "stream",
     "text": [
      "programing\n"
     ]
    }
   ],
   "source": [
    "class WordBuilder:\n",
    "    def __init__(self, s):\n",
    "        self.s = s\n",
    "    def build(self):\n",
    "        return ''.join(self.s)\n",
    "wb = WordBuilder([\"pro\",\"gram\",\"ing\"])\n",
    "print(wb.build())  "
   ]
  },
  {
   "cell_type": "code",
   "execution_count": 8,
   "id": "0bd2cd6c",
   "metadata": {},
   "outputs": [
    {
     "name": "stdout",
     "output_type": "stream",
     "text": [
      "True\n"
     ]
    }
   ],
   "source": [
    "class SpyChecker:\n",
    "    def __init__(self):\n",
    "        self.keywords = [\"spy\", \"code\", \"agent\"]\n",
    "    def code(self, message):\n",
    "        for word in self.keywords:\n",
    "            if word in message:  \n",
    "                return True\n",
    "        return False\n",
    "sc = SpyChecker()\n",
    "print(sc.code(\"This message contains a secret code\"))  # Output: True\n"
   ]
  },
  {
   "cell_type": "code",
   "execution_count": 9,
   "id": "1c6c5bd2",
   "metadata": {},
   "outputs": [
    {
     "name": "stdout",
     "output_type": "stream",
     "text": [
      "11\n"
     ]
    }
   ],
   "source": [
    "class VowelCounter:\n",
    "    def count(self, text):\n",
    "        vowels = \"aeiouAEIOU\"\n",
    "        c=0\n",
    "        for i in text:\n",
    "            if i in vowels:\n",
    "                c+=1\n",
    "        return c    \n",
    "vc = VowelCounter()\n",
    "print(vc.count(\"Hello, this is a clear voice script\")) \n"
   ]
  },
  {
   "cell_type": "code",
   "execution_count": 10,
   "id": "954fc14c",
   "metadata": {},
   "outputs": [
    {
     "name": "stdout",
     "output_type": "stream",
     "text": [
      "['b', 'c']\n"
     ]
    }
   ],
   "source": [
    "a=\"abcabcbbc\"\n",
    "c=[]\n",
    "for i in a:\n",
    "    if i in c:\n",
    "        c=[]\n",
    "    else:\n",
    "        c.append(i)\n",
    "print(c)        "
   ]
  },
  {
   "cell_type": "code",
   "execution_count": null,
   "id": "4e8f2560",
   "metadata": {},
   "outputs": [
    {
     "name": "stdout",
     "output_type": "stream",
     "text": [
      "Total price: 270.0\n"
     ]
    }
   ],
   "source": [
    "class tickets:\n",
    "    def price(self):\n",
    "        return 0\n",
    "class child(tickets):\n",
    "    def price(self):\n",
    "        return 50\n",
    "class adult(tickets):\n",
    "    def price(self):\n",
    "        return 100\n",
    "class senior(tickets):\n",
    "    def price(self):\n",
    "        return 150\n",
    "class booth:\n",
    "    def total(self, ticket_list):\n",
    "        total = 0\n",
    "        for i in ticket_list:\n",
    "            total += i.price()\n",
    "        if len(ticket_list)>=3:\n",
    "            print(\"Total price:\", total*0.9)\n",
    "        else:\n",
    "            print(\"Total price:\", total)\n",
    "a = [child(), adult(), senior()]\n",
    "b = booth()\n",
    "b.total(a)\n"
   ]
  },
  {
   "cell_type": "code",
   "execution_count": 14,
   "id": "9cc42cc3",
   "metadata": {},
   "outputs": [
    {
     "data": {
      "text/plain": [
       "17.1"
      ]
     },
     "execution_count": 14,
     "metadata": {},
     "output_type": "execute_result"
    }
   ],
   "source": [
    "class astronaut():\n",
    "    def __init__(s,w):\n",
    "        s.w=w\n",
    "    def weight_on(s,planet):\n",
    "        if planet == \"mars\":\n",
    "            return s.w*0.38\n",
    "        elif planet ==\"moon\":\n",
    "            return s.w*0.165\n",
    "        elif planet == \"jupiter\":\n",
    "            return s.w*2.34\n",
    "a=astronaut(45)\n",
    "a.weight_on(\"mars\")        "
   ]
  },
  {
   "cell_type": "code",
   "execution_count": 15,
   "id": "1071ccdf",
   "metadata": {},
   "outputs": [
    {
     "name": "stdout",
     "output_type": "stream",
     "text": [
      "0\n",
      "0\n",
      "0\n",
      "0\n",
      "0\n",
      "0\n",
      "0\n",
      "0\n",
      "0\n",
      "0\n",
      "0\n",
      "1\n",
      "1\n",
      "1\n",
      "1\n",
      "1\n",
      "1\n",
      "1\n",
      "1\n",
      "1\n",
      "1\n",
      "1\n",
      "2\n",
      "2\n",
      "2\n",
      "2\n",
      "2\n",
      "2\n",
      "2\n",
      "2\n",
      "2\n",
      "2\n",
      "2\n",
      "3\n",
      "3\n",
      "3\n",
      "3\n",
      "3\n",
      "3\n",
      "3\n",
      "3\n",
      "3\n",
      "3\n",
      "3\n",
      "4\n",
      "4\n",
      "4\n",
      "4\n",
      "4\n",
      "4\n",
      "4\n",
      "4\n",
      "4\n",
      "4\n",
      "4\n",
      "5\n",
      "5\n",
      "5\n",
      "5\n",
      "5\n",
      "5\n",
      "5\n",
      "5\n",
      "5\n",
      "5\n",
      "5\n",
      "6\n",
      "6\n",
      "6\n",
      "6\n",
      "6\n",
      "6\n",
      "6\n",
      "6\n",
      "6\n",
      "6\n",
      "6\n",
      "7\n",
      "7\n",
      "7\n",
      "7\n",
      "7\n",
      "7\n",
      "7\n",
      "7\n",
      "7\n",
      "7\n",
      "7\n",
      "8\n",
      "8\n",
      "8\n",
      "8\n",
      "8\n",
      "8\n",
      "8\n",
      "8\n",
      "8\n",
      "8\n",
      "8\n",
      "9\n",
      "9\n",
      "9\n",
      "9\n",
      "9\n",
      "9\n",
      "9\n",
      "9\n",
      "9\n",
      "9\n",
      "9\n"
     ]
    }
   ],
   "source": [
    "#time how much it will tack to execute a program\n",
    "# space -how much space required to perform the program\n",
    "n=10\n",
    "l=[12,34,56]#o(1)\n",
    "for i in range(n):#o(n)\n",
    "    for j in range(n+1):#o(n^2)\n",
    "#search , tree -0(logn)        \n",
    "        print(i)"
   ]
  }
 ],
 "metadata": {
  "kernelspec": {
   "display_name": "Python 3",
   "language": "python",
   "name": "python3"
  },
  "language_info": {
   "codemirror_mode": {
    "name": "ipython",
    "version": 3
   },
   "file_extension": ".py",
   "mimetype": "text/x-python",
   "name": "python",
   "nbconvert_exporter": "python",
   "pygments_lexer": "ipython3",
   "version": "3.12.6"
  }
 },
 "nbformat": 4,
 "nbformat_minor": 5
}
