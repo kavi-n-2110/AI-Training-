{
 "cells": [
  {
   "cell_type": "code",
   "execution_count": null,
   "id": "3982d7c9",
   "metadata": {},
   "outputs": [],
   "source": [
    "#array -\n",
    "#[78.33,\"ddd\"]-list\n",
    "#similar datatype - array"
   ]
  },
  {
   "cell_type": "code",
   "execution_count": 2,
   "id": "8d4bd5f5",
   "metadata": {},
   "outputs": [
    {
     "name": "stdout",
     "output_type": "stream",
     "text": [
      "10\n"
     ]
    }
   ],
   "source": [
    "a=[20,5,8,10]\n",
    "aa=sorted(a)\n",
    "print(aa[-2])"
   ]
  },
  {
   "cell_type": "code",
   "execution_count": 3,
   "id": "749905e2",
   "metadata": {},
   "outputs": [
    {
     "name": "stdout",
     "output_type": "stream",
     "text": [
      "10\n"
     ]
    }
   ],
   "source": [
    "a=[20,5,8,10]\n",
    "a.sort(reverse=False)\n",
    "print(a[-2])"
   ]
  },
  {
   "cell_type": "code",
   "execution_count": 4,
   "id": "6f6b936b",
   "metadata": {},
   "outputs": [
    {
     "name": "stdout",
     "output_type": "stream",
     "text": [
      "5\n"
     ]
    }
   ],
   "source": [
    "a=[20,5]\n",
    "m1 = len(a)\n",
    "if m1<2:\n",
    "    print (\"No second largest element\")\n",
    "for i in a:\n",
    "    max1 = max(a)\n",
    "    a.remove(max1)\n",
    "    max2 = max(a)\n",
    "    print(max2)\n",
    "    break\n"
   ]
  },
  {
   "cell_type": "code",
   "execution_count": 5,
   "id": "603e4042",
   "metadata": {},
   "outputs": [
    {
     "name": "stdout",
     "output_type": "stream",
     "text": [
      "10\n"
     ]
    }
   ],
   "source": [
    "a=[20,5,8,10]\n",
    "for i in range(len(a)-1):\n",
    "    if a[i]>a[i+1]:\n",
    "        t=a[i]\n",
    "        a[i]=a[i+1]\n",
    "        a[i+1]=t\n",
    "print(a[-2])  "
   ]
  },
  {
   "cell_type": "code",
   "execution_count": 7,
   "id": "f3917947",
   "metadata": {},
   "outputs": [
    {
     "name": "stdout",
     "output_type": "stream",
     "text": [
      "the absentees are ['haritha', 'kichu', 'ponna']\n"
     ]
    }
   ],
   "source": [
    "a=[\"thara\",\"hari\",\"haritha\",\"kichu\",\"ponna\"]\n",
    "b=[\"thara\",\"hari\"]\n",
    "c=[]\n",
    "for i in a:\n",
    "    if i not in b:\n",
    "        c.append(i)\n",
    "print(f\"the absentees are {c}\")"
   ]
  },
  {
   "cell_type": "code",
   "execution_count": 8,
   "id": "ecbdee93",
   "metadata": {},
   "outputs": [
    {
     "name": "stdout",
     "output_type": "stream",
     "text": [
      "[120, 180]\n"
     ]
    }
   ],
   "source": [
    "a=[50,120,50,20,180]\n",
    "s=[]\n",
    "for i in a:\n",
    "    if i*.9>=100:\n",
    "        s.append(i)\n",
    "print(s)"
   ]
  },
  {
   "cell_type": "code",
   "execution_count": 9,
   "id": "cb18d12f",
   "metadata": {},
   "outputs": [
    {
     "name": "stdout",
     "output_type": "stream",
     "text": [
      "[120, 180]\n"
     ]
    }
   ],
   "source": [
    "a=[50,120,50,20,180]\n",
    "s=[]\n",
    "for i in a:\n",
    "    q=i/10\n",
    "    if i-q>=100:\n",
    "        s.append(i)\n",
    "print(s)"
   ]
  },
  {
   "cell_type": "code",
   "execution_count": 10,
   "id": "51e9ac49",
   "metadata": {},
   "outputs": [
    {
     "name": "stdout",
     "output_type": "stream",
     "text": [
      "{'3Am': 2, '4Am': 2, '5Am': 2}\n"
     ]
    }
   ],
   "source": [
    "a=[\"3Am\",\"4Am\",\"3Am\",\"5Am\",\"4Am\",\"5Am\"]\n",
    "b={}\n",
    "for i in a:\n",
    "    if i not in b:\n",
    "        b[i]=1\n",
    "    else:\n",
    "        b[i]+=1\n",
    "print(b)   "
   ]
  },
  {
   "cell_type": "code",
   "execution_count": 11,
   "id": "41afa470",
   "metadata": {},
   "outputs": [
    {
     "name": "stdout",
     "output_type": "stream",
     "text": [
      "Counter({'3Am': 2, '4Am': 2, '5Am': 2})\n"
     ]
    }
   ],
   "source": [
    "from collections import Counter\n",
    "a=[\"3Am\",\"4Am\",\"3Am\",\"5Am\",\"4Am\",\"5Am\"]\n",
    "b=Counter(a)\n",
    "print(b)"
   ]
  },
  {
   "cell_type": "code",
   "execution_count": 12,
   "id": "49815bf4",
   "metadata": {},
   "outputs": [
    {
     "name": "stdout",
     "output_type": "stream",
     "text": [
      "the total is 430\n",
      "the average is 107.5\n"
     ]
    }
   ],
   "source": [
    "e_b=[10,5,8,20]\n",
    "sum=0\n",
    "for i in e_b:\n",
    "    q=i*10\n",
    "    sum+= q\n",
    "print(\"the total is\",sum)\n",
    "print(\"the average is\",sum/len(e_b)) "
   ]
  }
 ],
 "metadata": {
  "kernelspec": {
   "display_name": "Python 3",
   "language": "python",
   "name": "python3"
  },
  "language_info": {
   "codemirror_mode": {
    "name": "ipython",
    "version": 3
   },
   "file_extension": ".py",
   "mimetype": "text/x-python",
   "name": "python",
   "nbconvert_exporter": "python",
   "pygments_lexer": "ipython3",
   "version": "3.12.6"
  }
 },
 "nbformat": 4,
 "nbformat_minor": 5
}
