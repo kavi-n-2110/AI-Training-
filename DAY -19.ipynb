{
 "cells": [
  {
   "cell_type": "code",
   "execution_count": 8,
   "id": "c2769329",
   "metadata": {},
   "outputs": [
    {
     "name": "stdout",
     "output_type": "stream",
     "text": [
      "-8442537321402094354\n",
      "24\n",
      "24\n",
      "1\n",
      "0\n"
     ]
    }
   ],
   "source": [
    "#Hashing - convert the data into a fixed values using hash function\n",
    "#hash()\n",
    "print(hash(\"hari\"))\n",
    "print(hash(24))\n",
    "print(hash(24.0))\n",
    "print(hash(True))\n",
    "print(hash(False))\n"
   ]
  },
  {
   "cell_type": "code",
   "execution_count": null,
   "id": "e92ee093",
   "metadata": {},
   "outputs": [
    {
     "name": "stdout",
     "output_type": "stream",
     "text": [
      "-2173084204494800315\n",
      "-8442537321402094354\n",
      "-7362226255398581595\n"
     ]
    }
   ],
   "source": [
    "list1 = [\"thara\",\"hari\",\"haritha\"]\n",
    "for i in list1:\n",
    "    print(hash(i))\n",
    "    #HASH MAP, HASH SET\n",
    "#counter ,dict,defaultdict"
   ]
  },
  {
   "cell_type": "code",
   "execution_count": 13,
   "id": "24b18fa4",
   "metadata": {},
   "outputs": [
    {
     "name": "stdout",
     "output_type": "stream",
     "text": [
      "Counter({'a': 2, 't': 1, 'h': 1, 'r': 1})\n"
     ]
    }
   ],
   "source": [
    "from collections import Counter\n",
    "print(Counter(\"thara\"))"
   ]
  },
  {
   "cell_type": "code",
   "execution_count": null,
   "id": "0474ec48",
   "metadata": {},
   "outputs": [
    {
     "name": "stdout",
     "output_type": "stream",
     "text": [
      "{'b': 1, 'a': 3, 'n': 2}\n"
     ]
    }
   ],
   "source": [
    "a =\"banana\"\n",
    "dict = {}\n",
    "for ch in a:\n",
    "    if ch in dict:\n",
    "        dict[ch]+=1\n",
    "    else:\n",
    "        dict[ch]=1\n",
    "print(dict)"
   ]
  },
  {
   "cell_type": "code",
   "execution_count": null,
   "id": "12592ad4",
   "metadata": {},
   "outputs": [
    {
     "name": "stdout",
     "output_type": "stream",
     "text": [
      "-3775516598226420112\n",
      "-4259499562164268144\n"
     ]
    }
   ],
   "source": [
    "#counter ,dict,defaultdict ,set\n",
    "p1 = {\"name\":\"thara\",\"age\":20}\n",
    "print(hash(\"name\"))\n",
    "print(hash(\"age\"))  \n",
    "\n",
    "#this hash value will elp to store and we can find it very fast"
   ]
  },
  {
   "cell_type": "code",
   "execution_count": 1,
   "id": "2b0bfa79",
   "metadata": {},
   "outputs": [
    {
     "name": "stdout",
     "output_type": "stream",
     "text": [
      "2569966870026288123\n"
     ]
    }
   ],
   "source": [
    "'''hashable - it can be used as dict key or set element'''\n",
    "person={\"name\":\"avani\",\"age\":40}\n",
    "print(hash(\"name\"))"
   ]
  },
  {
   "cell_type": "code",
   "execution_count": null,
   "id": "1f2f08b0",
   "metadata": {},
   "outputs": [
    {
     "name": "stdout",
     "output_type": "stream",
     "text": [
      "thara\n"
     ]
    }
   ],
   "source": [
    "#custom class using __hash__ and __eq__ function\n",
    "class std():\n",
    "    def __init__(self,roll):\n",
    "        self.roll = roll\n",
    "    def __hash__(self):\n",
    "        return hash(self.roll)\n",
    "    def __eq__(self,other):\n",
    "        return self.roll == other.roll\n",
    "s1 = std(24)\n",
    "s2 = std(24)\n",
    "\n",
    "d={}\n",
    "d[s1]=\"thara\"\n",
    "print(d[s2])\n",
    "            "
   ]
  },
  {
   "cell_type": "code",
   "execution_count": null,
   "id": "771e5d45",
   "metadata": {},
   "outputs": [
    {
     "name": "stdout",
     "output_type": "stream",
     "text": [
      "-9091223602769460459\n",
      "8297198259584550137\n"
     ]
    }
   ],
   "source": [
    "#hash collision - two different obj may return the same hash\n",
    "print(hash(\"Aa\"))\n",
    "print(hash(\"bb\"))"
   ]
  },
  {
   "cell_type": "code",
   "execution_count": null,
   "id": "5c74e5e9",
   "metadata": {},
   "outputs": [
    {
     "name": "stdout",
     "output_type": "stream",
     "text": [
      "['e', 'v', 'r', 'y', ' ', 's', 'u', 'n', 'd', 'a', 'i', 'o', 't', 'g', 'b']\n"
     ]
    }
   ],
   "source": [
    "text = \"every sunday is not a good day but every \"\n",
    "l = []\n",
    "for ch in text:\n",
    "    if ch not in l:\n",
    "        l.append(ch)\n",
    "print(l)"
   ]
  },
  {
   "cell_type": "code",
   "execution_count": 2,
   "id": "90d5454f",
   "metadata": {},
   "outputs": [
    {
     "name": "stdout",
     "output_type": "stream",
     "text": [
      "['vish', 'raji', 'god', 'thara']\n"
     ]
    }
   ],
   "source": [
    "a=[\"vish\",\"raji\",\"vish\",\"god\",\"thara\",\"thara\"]\n",
    "c=[]\n",
    "for i in range(len(a)):\n",
    "    if a[i] not in c:\n",
    "        c.append(a[i])\n",
    "print(c)        \n"
   ]
  },
  {
   "cell_type": "code",
   "execution_count": null,
   "id": "764abe66",
   "metadata": {},
   "outputs": [
    {
     "name": "stdout",
     "output_type": "stream",
     "text": [
      "every\n",
      "every\n"
     ]
    }
   ],
   "source": [
    "text = \"every sunday is not a good day but every \"\n",
    "word = text.split()\n",
    "for i in word:\n",
    "    if word.count(i) > 1:\n",
    "        print(i)"
   ]
  },
  {
   "cell_type": "code",
   "execution_count": 44,
   "id": "14151948",
   "metadata": {},
   "outputs": [
    {
     "name": "stdout",
     "output_type": "stream",
     "text": [
      "['the', 'sat', 'on']\n"
     ]
    }
   ],
   "source": [
    "a = \"the cat sat on the mat\"\n",
    "b = \"the dog sat on the fog\"\n",
    "list1 = []\n",
    "for w1 in a.split():\n",
    "    for w2 in b.split():\n",
    "        if w1==w2 and w1 not in list1:\n",
    "            list1.append(w1)\n",
    "print(list1)"
   ]
  },
  {
   "cell_type": "code",
   "execution_count": 13,
   "id": "733011c1",
   "metadata": {},
   "outputs": [
    {
     "name": "stdout",
     "output_type": "stream",
     "text": [
      "['sat', 'on', 'the']\n"
     ]
    }
   ],
   "source": [
    "a = \"the cat sat on the mat\"\n",
    "b = \"the dog sat on the fog\"\n",
    "result = list(set(a.split())&set(b.split()))\n",
    "print(result)"
   ]
  },
  {
   "cell_type": "code",
   "execution_count": 3,
   "id": "bd2c003b",
   "metadata": {},
   "outputs": [
    {
     "name": "stdout",
     "output_type": "stream",
     "text": [
      "[['a1', ['chennai', 'mumbai']], ['b1', ['kozhikode']]]\n"
     ]
    }
   ],
   "source": [
    "def grouping(pairs):\n",
    "    list1=[]\n",
    "    for code ,location in pairs:\n",
    "        found=False\n",
    "        for group in list1:\n",
    "            if(group[0]==code):\n",
    "                group[1].append(location)\n",
    "                found=True\n",
    "        if not found:\n",
    "            list1.append([code,[location]])  \n",
    "    return list1              \n",
    "\n",
    "data=[(\"a1\",\"chennai\"),(\"b1\",\"kozhikode\"),(\"a1\",\"mumbai\")]\n",
    "print(grouping(data))"
   ]
  },
  {
   "cell_type": "code",
   "execution_count": 5,
   "id": "e41917a9",
   "metadata": {},
   "outputs": [
    {
     "name": "stdout",
     "output_type": "stream",
     "text": [
      "['a', 'b', 'e']\n"
     ]
    }
   ],
   "source": [
    "'''list - code ,location '''\n",
    "d = {\"a\":\"abc\",\"b\":\"def\",\"a\":\"th\",\"b\":\"gth\",\"e\":\"def\"}\n",
    "l =[]\n",
    "for i in d:\n",
    "    if keys == keys:\n",
    "        l.append(i)    \n",
    "print(l)"
   ]
  },
  {
   "cell_type": "code",
   "execution_count": 4,
   "id": "b334234a",
   "metadata": {},
   "outputs": [
    {
     "name": "stdout",
     "output_type": "stream",
     "text": [
      "[3, 2]\n"
     ]
    }
   ],
   "source": [
    "def f_d(n):\n",
    "    my_dict = {}\n",
    "    r = []\n",
    "    for i in n:\n",
    "        my_dict[i] = my_dict.get(i, 0) + 1\n",
    "    for i, count in my_dict.items():\n",
    "        if count == 2:\n",
    "            r.append(i)\n",
    "    return r\n",
    "\n",
    "nums = [4, 3, 2, 7, 8, 2, 3, 1]\n",
    "print(f_d(nums))"
   ]
  },
  {
   "cell_type": "code",
   "execution_count": 11,
   "id": "bef4182d",
   "metadata": {},
   "outputs": [
    {
     "name": "stdout",
     "output_type": "stream",
     "text": [
      "{'a': ['abc', 'th'], 'b': ['def', 'gth']}\n"
     ]
    }
   ],
   "source": [
    "#with hashing\n",
    "d = [(\"a\",\"abc\"),(\"b\",\"def\"),(\"a\",\"th\"),(\"b\",\"gth\")]  \n",
    "dict1 ={}\n",
    "for code , location in d:\n",
    "    if code not in dict1:\n",
    "        dict1[code]=[]\n",
    "    dict1[code].append(location)\n",
    "print(dict1)"
   ]
  },
  {
   "cell_type": "code",
   "execution_count": 5,
   "id": "08cbcfe4",
   "metadata": {},
   "outputs": [
    {
     "name": "stdout",
     "output_type": "stream",
     "text": [
      "[4, 9]\n"
     ]
    }
   ],
   "source": [
    "a = [4, 9, 5]\n",
    "b = [9, 4, 9, 8, 4]\n",
    "c = []\n",
    "for i in a:\n",
    "    if i in b:\n",
    "        c.append(i)\n",
    "print(c)"
   ]
  },
  {
   "cell_type": "code",
   "execution_count": 6,
   "id": "6ed85393",
   "metadata": {},
   "outputs": [
    {
     "name": "stdout",
     "output_type": "stream",
     "text": [
      "4\n"
     ]
    }
   ],
   "source": [
    "nums = [0, 1, 0, 1, 1]\n",
    "s = 0\n",
    "count =0\n",
    "d = {0: 1}  \n",
    "for i in nums:\n",
    "    if i == 0:\n",
    "        s -= 1\n",
    "    else:\n",
    "        s += 1       \n",
    "    count += d.get(s, 0)\n",
    "    d[s] = d.get(s, 0)+1\n",
    "print(count)\n"
   ]
  }
 ],
 "metadata": {
  "kernelspec": {
   "display_name": "Python 3",
   "language": "python",
   "name": "python3"
  },
  "language_info": {
   "codemirror_mode": {
    "name": "ipython",
    "version": 3
   },
   "file_extension": ".py",
   "mimetype": "text/x-python",
   "name": "python",
   "nbconvert_exporter": "python",
   "pygments_lexer": "ipython3",
   "version": "3.12.6"
  }
 },
 "nbformat": 4,
 "nbformat_minor": 5
}
