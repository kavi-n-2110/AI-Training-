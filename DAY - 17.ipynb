{
 "cells": [
  {
   "cell_type": "code",
   "execution_count": null,
   "id": "6442084d",
   "metadata": {},
   "outputs": [
    {
     "name": "stdout",
     "output_type": "stream",
     "text": [
      "Total Collection: ₹ 250\n",
      "Vehicle Counts: {'Bike': 2, 'Car': 2, 'Truck': 1, 'Bus': 1}\n"
     ]
    }
   ],
   "source": [
    "class Vehicle:\n",
    "    def __init__(self, has_pass):\n",
    "        self.has_pass = has_pass\n",
    "    def get_toll(self):\n",
    "        if self.has_pass:\n",
    "            return 0\n",
    "        else:\n",
    "            return self.rate\n",
    "class Bike(Vehicle):\n",
    "    rate = 20\n",
    "class Car(Vehicle):\n",
    "    rate = 50\n",
    "class Truck(Vehicle):\n",
    "    rate = 100\n",
    "class Bus(Vehicle):\n",
    "    rate = 80\n",
    "vehicles = [Bike(False),Car(True),Truck(False),Bus(False),Car(False),Bike(True)]\n",
    "counts = {\"Bike\": 0, \"Car\": 0, \"Truck\": 0, \"Bus\": 0}\n",
    "total = 0\n",
    "for v in vehicles:\n",
    "    total += v.get_toll()\n",
    "    counts[v.__class__.__name__] += 1\n",
    "print(\"Total Collection: ₹\", total)\n",
    "print(\"Vehicle Counts:\", counts)"
   ]
  },
  {
   "cell_type": "code",
   "execution_count": 2,
   "id": "0c322939",
   "metadata": {},
   "outputs": [
    {
     "name": "stdout",
     "output_type": "stream",
     "text": [
      "A - Average: 90.00 - Grade: B\n",
      "B - Average: 61.00 - Grade: C\n"
     ]
    }
   ],
   "source": [
    "class Student:\n",
    "    def __init__(self, name, marks):\n",
    "        self.name = name\n",
    "        self.marks = marks\n",
    "    def calculate_grade(self):\n",
    "        avg = sum(self.marks) / len(self.marks)\n",
    "        if avg > 90:\n",
    "            grade = 'A'\n",
    "        elif avg > 74:\n",
    "            grade = 'B'\n",
    "        elif avg >= 50:\n",
    "            grade = 'C'\n",
    "        else:\n",
    "            grade = 'D'\n",
    "        return (f\"{self.name} - Average: {avg:.2f} - Grade: {grade}\")\n",
    "s1 = Student(\"A\", [95, 88, 92, 85, 90])\n",
    "s2 = Student(\"B\", [60, 55, 70, 68, 52])\n",
    "print(s1.calculate_grade())\n",
    "print(s2.calculate_grade())\n"
   ]
  },
  {
   "cell_type": "code",
   "execution_count": 3,
   "id": "2a587792",
   "metadata": {},
   "outputs": [
    {
     "name": "stdout",
     "output_type": "stream",
     "text": [
      "m1,produces 2400 and the maintainace is 2.4\n"
     ]
    }
   ],
   "source": [
    "class Machine:\n",
    "    def __init__(self, name, rate_per_hour, cost_per_day):\n",
    "        self.name = name\n",
    "        self.rate = rate_per_hour\n",
    "        self.cost = cost_per_day\n",
    "    def daily_output(self):\n",
    "        return self.rate * 24\n",
    "    def m_c(self):\n",
    "        return self.daily_output() / self.cost\n",
    "m1=Machine(\"m1\",100,1000) \n",
    "m2=Machine(\"m2\",150,1500)   \n",
    "print(f\"{m1.name},produces {m1.daily_output()} and the maintainace is {m1.m_c()}\")"
   ]
  },
  {
   "cell_type": "code",
   "execution_count": 4,
   "id": "aba2a9f7",
   "metadata": {},
   "outputs": [
    {
     "name": "stdout",
     "output_type": "stream",
     "text": [
      "True\n"
     ]
    }
   ],
   "source": [
    "def arrayStringsAreEqual(word1, word2):\n",
    "    w = \"\"\n",
    "    s = \"\"\n",
    "    for i in range(len(word1)):\n",
    "        w += word1[i]\n",
    "    for i in range(len(word2)):\n",
    "        s+= word2[i]\n",
    "    if w==s:\n",
    "            return True\n",
    "    return False\n",
    "q = [\"ab\", \"c\"]\n",
    "d = [\"a\", \"bc\"]\n",
    "print(arrayStringsAreEqual(q, d)) "
   ]
  },
  {
   "cell_type": "code",
   "execution_count": 5,
   "id": "5d59b473",
   "metadata": {},
   "outputs": [
    {
     "data": {
      "text/plain": [
       "100"
      ]
     },
     "execution_count": 5,
     "metadata": {},
     "output_type": "execute_result"
    }
   ],
   "source": [
    "class Vehicle:\n",
    "    def __init__(self, has_pass,type_of):\n",
    "        self.has_pass = has_pass\n",
    "        self.type_of = type_of\n",
    "    def toll_pass(self):\n",
    "        amount = {\"Bike\": 0, \"Car\": 100, \"Truck\": 150, \"Bus\": 100}\n",
    "        if self.has_pass:\n",
    "            return 0\n",
    "        else:\n",
    "            return amount.get(self.type_of)\n",
    "v2=Vehicle(False ,\"Car\" )        \n",
    "v2.toll_pass()"
   ]
  },
  {
   "cell_type": "code",
   "execution_count": 6,
   "id": "c18aba55",
   "metadata": {},
   "outputs": [
    {
     "name": "stdout",
     "output_type": "stream",
     "text": [
      "372\n"
     ]
    }
   ],
   "source": [
    "from datetime import date\n",
    "class Book:\n",
    "    def __init__(self, title, borrow_date):\n",
    "        self.title = title\n",
    "        self.date = borrow_date\n",
    "class User:\n",
    "    def __init__(self, name):\n",
    "        self.name = name\n",
    "        self.books = []\n",
    "    def borrow(self, book):\n",
    "        self.books.append(book)\n",
    "    def fine(self):\n",
    "        today = date.today()\n",
    "        fine = 0\n",
    "        for b in self.books:\n",
    "            days = (today - b.date).days\n",
    "            if days > 15:\n",
    "                fine += (days - 15) * 2 \n",
    "        return fine\n",
    "c1 = User(\"THARA\")\n",
    "c1.borrow(Book(\"The Jungle\", date(2025, 4, 17)))\n",
    "c1.borrow(Book(\"Nothing\", date(2025, 4, 19)))\n",
    "print(c1.fine())\n"
   ]
  }
 ],
 "metadata": {
  "kernelspec": {
   "display_name": "Python 3",
   "language": "python",
   "name": "python3"
  },
  "language_info": {
   "codemirror_mode": {
    "name": "ipython",
    "version": 3
   },
   "file_extension": ".py",
   "mimetype": "text/x-python",
   "name": "python",
   "nbconvert_exporter": "python",
   "pygments_lexer": "ipython3",
   "version": "3.12.6"
  }
 },
 "nbformat": 4,
 "nbformat_minor": 5
}
